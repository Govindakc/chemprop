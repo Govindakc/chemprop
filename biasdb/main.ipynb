{
 "cells": [
  {
   "cell_type": "code",
   "execution_count": 41,
   "metadata": {},
   "outputs": [],
   "source": [
    "from split import stratify\n",
    "import pandas as pd\n",
    "import numpy as np"
   ]
  },
  {
   "cell_type": "code",
   "execution_count": 44,
   "metadata": {},
   "outputs": [
    {
     "data": {
      "text/html": [
       "<div>\n",
       "<style scoped>\n",
       "    .dataframe tbody tr th:only-of-type {\n",
       "        vertical-align: middle;\n",
       "    }\n",
       "\n",
       "    .dataframe tbody tr th {\n",
       "        vertical-align: top;\n",
       "    }\n",
       "\n",
       "    .dataframe thead th {\n",
       "        text-align: right;\n",
       "    }\n",
       "</style>\n",
       "<table border=\"1\" class=\"dataframe\">\n",
       "  <thead>\n",
       "    <tr style=\"text-align: right;\">\n",
       "      <th></th>\n",
       "      <th>smiles</th>\n",
       "      <th>B_Arrestin</th>\n",
       "      <th>ERK</th>\n",
       "      <th>G_Protein</th>\n",
       "      <th>Selective</th>\n",
       "    </tr>\n",
       "  </thead>\n",
       "  <tbody>\n",
       "    <tr>\n",
       "      <th>0</th>\n",
       "      <td>C(CCOC1=CC2=CC=NN2C=C1)CNC1CCC2=CC=CC=C2C1</td>\n",
       "      <td>1</td>\n",
       "      <td>0</td>\n",
       "      <td>1</td>\n",
       "      <td>0</td>\n",
       "    </tr>\n",
       "    <tr>\n",
       "      <th>1</th>\n",
       "      <td>C1=NN2C=CC=CC2=C1</td>\n",
       "      <td>1</td>\n",
       "      <td>1</td>\n",
       "      <td>1</td>\n",
       "      <td>1</td>\n",
       "    </tr>\n",
       "    <tr>\n",
       "      <th>2</th>\n",
       "      <td>C1CCC2=CC=CC=C2C1</td>\n",
       "      <td>1</td>\n",
       "      <td>0</td>\n",
       "      <td>1</td>\n",
       "      <td>0</td>\n",
       "    </tr>\n",
       "    <tr>\n",
       "      <th>3</th>\n",
       "      <td>C(CCOC1=CN2N=CC=C2C=C1)CNC1CCC2=CC=CC=C2C1</td>\n",
       "      <td>1</td>\n",
       "      <td>0</td>\n",
       "      <td>1</td>\n",
       "      <td>0</td>\n",
       "    </tr>\n",
       "    <tr>\n",
       "      <th>4</th>\n",
       "      <td>C(C1=CNC2=CC=CC=C12)C1=CNC2=CC=CC=C12</td>\n",
       "      <td>1</td>\n",
       "      <td>0</td>\n",
       "      <td>1</td>\n",
       "      <td>0</td>\n",
       "    </tr>\n",
       "  </tbody>\n",
       "</table>\n",
       "</div>"
      ],
      "text/plain": [
       "                                       smiles  B_Arrestin  ERK  G_Protein  \\\n",
       "0  C(CCOC1=CC2=CC=NN2C=C1)CNC1CCC2=CC=CC=C2C1           1    0          1   \n",
       "1                           C1=NN2C=CC=CC2=C1           1    1          1   \n",
       "2                           C1CCC2=CC=CC=C2C1           1    0          1   \n",
       "3  C(CCOC1=CN2N=CC=C2C=C1)CNC1CCC2=CC=CC=C2C1           1    0          1   \n",
       "4       C(C1=CNC2=CC=CC=C12)C1=CNC2=CC=CC=C12           1    0          1   \n",
       "\n",
       "   Selective  \n",
       "0          0  \n",
       "1          1  \n",
       "2          0  \n",
       "3          0  \n",
       "4          0  "
      ]
     },
     "execution_count": 44,
     "metadata": {},
     "output_type": "execute_result"
    }
   ],
   "source": [
    "df = pd.read_csv(\"data/intersection_files.csv\")\n",
    "data_df = df.copy()\n",
    "df.head()"
   ]
  },
  {
   "cell_type": "code",
   "execution_count": 45,
   "metadata": {},
   "outputs": [],
   "source": [
    "for i in range(1, len(df.columns)):\n",
    "    df[df.columns[i]] = df[df.columns[i]].apply(lambda x: df.columns[i] if x==1 else None)"
   ]
  },
  {
   "cell_type": "code",
   "execution_count": 46,
   "metadata": {},
   "outputs": [
    {
     "data": {
      "text/html": [
       "<div>\n",
       "<style scoped>\n",
       "    .dataframe tbody tr th:only-of-type {\n",
       "        vertical-align: middle;\n",
       "    }\n",
       "\n",
       "    .dataframe tbody tr th {\n",
       "        vertical-align: top;\n",
       "    }\n",
       "\n",
       "    .dataframe thead th {\n",
       "        text-align: right;\n",
       "    }\n",
       "</style>\n",
       "<table border=\"1\" class=\"dataframe\">\n",
       "  <thead>\n",
       "    <tr style=\"text-align: right;\">\n",
       "      <th></th>\n",
       "      <th>smiles</th>\n",
       "      <th>B_Arrestin</th>\n",
       "      <th>ERK</th>\n",
       "      <th>G_Protein</th>\n",
       "      <th>Selective</th>\n",
       "    </tr>\n",
       "  </thead>\n",
       "  <tbody>\n",
       "    <tr>\n",
       "      <th>0</th>\n",
       "      <td>C(CCOC1=CC2=CC=NN2C=C1)CNC1CCC2=CC=CC=C2C1</td>\n",
       "      <td>B_Arrestin</td>\n",
       "      <td>None</td>\n",
       "      <td>G_Protein</td>\n",
       "      <td>None</td>\n",
       "    </tr>\n",
       "    <tr>\n",
       "      <th>1</th>\n",
       "      <td>C1=NN2C=CC=CC2=C1</td>\n",
       "      <td>B_Arrestin</td>\n",
       "      <td>ERK</td>\n",
       "      <td>G_Protein</td>\n",
       "      <td>Selective</td>\n",
       "    </tr>\n",
       "    <tr>\n",
       "      <th>2</th>\n",
       "      <td>C1CCC2=CC=CC=C2C1</td>\n",
       "      <td>B_Arrestin</td>\n",
       "      <td>None</td>\n",
       "      <td>G_Protein</td>\n",
       "      <td>None</td>\n",
       "    </tr>\n",
       "    <tr>\n",
       "      <th>3</th>\n",
       "      <td>C(CCOC1=CN2N=CC=C2C=C1)CNC1CCC2=CC=CC=C2C1</td>\n",
       "      <td>B_Arrestin</td>\n",
       "      <td>None</td>\n",
       "      <td>G_Protein</td>\n",
       "      <td>None</td>\n",
       "    </tr>\n",
       "    <tr>\n",
       "      <th>4</th>\n",
       "      <td>C(C1=CNC2=CC=CC=C12)C1=CNC2=CC=CC=C12</td>\n",
       "      <td>B_Arrestin</td>\n",
       "      <td>None</td>\n",
       "      <td>G_Protein</td>\n",
       "      <td>None</td>\n",
       "    </tr>\n",
       "  </tbody>\n",
       "</table>\n",
       "</div>"
      ],
      "text/plain": [
       "                                       smiles  B_Arrestin   ERK  G_Protein  \\\n",
       "0  C(CCOC1=CC2=CC=NN2C=C1)CNC1CCC2=CC=CC=C2C1  B_Arrestin  None  G_Protein   \n",
       "1                           C1=NN2C=CC=CC2=C1  B_Arrestin   ERK  G_Protein   \n",
       "2                           C1CCC2=CC=CC=C2C1  B_Arrestin  None  G_Protein   \n",
       "3  C(CCOC1=CN2N=CC=C2C=C1)CNC1CCC2=CC=CC=C2C1  B_Arrestin  None  G_Protein   \n",
       "4       C(C1=CNC2=CC=CC=C12)C1=CNC2=CC=CC=C12  B_Arrestin  None  G_Protein   \n",
       "\n",
       "   Selective  \n",
       "0       None  \n",
       "1  Selective  \n",
       "2       None  \n",
       "3       None  \n",
       "4       None  "
      ]
     },
     "execution_count": 46,
     "metadata": {},
     "output_type": "execute_result"
    }
   ],
   "source": [
    "df.head()"
   ]
  },
  {
   "cell_type": "code",
   "execution_count": 47,
   "metadata": {},
   "outputs": [],
   "source": [
    "data = [[i for i in d.tolist() if i is not None] for d in df.values]\n",
    "classes = df.columns[1:].tolist()\n",
    "split = stratify([i[1:] for i in data], classes, [0.8, 0.2])\n",
    "train_indices = split[0][0]\n",
    "test_indices = split[0][1]"
   ]
  },
  {
   "cell_type": "code",
   "execution_count": 48,
   "metadata": {},
   "outputs": [],
   "source": [
    "data_df.iloc[train_indices].to_csv(\"train.csv\", index=None)\n",
    "data_df.iloc[test_indices].to_csv(\"test.csv\", index=None)"
   ]
  },
  {
   "cell_type": "code",
   "execution_count": null,
   "metadata": {},
   "outputs": [],
   "source": []
  },
  {
   "cell_type": "code",
   "execution_count": null,
   "metadata": {},
   "outputs": [],
   "source": []
  },
  {
   "cell_type": "code",
   "execution_count": null,
   "metadata": {},
   "outputs": [],
   "source": []
  },
  {
   "cell_type": "code",
   "execution_count": null,
   "metadata": {},
   "outputs": [],
   "source": []
  },
  {
   "cell_type": "code",
   "execution_count": 80,
   "metadata": {},
   "outputs": [
    {
     "data": {
      "text/html": [
       "<div>\n",
       "<style scoped>\n",
       "    .dataframe tbody tr th:only-of-type {\n",
       "        vertical-align: middle;\n",
       "    }\n",
       "\n",
       "    .dataframe tbody tr th {\n",
       "        vertical-align: top;\n",
       "    }\n",
       "\n",
       "    .dataframe thead th {\n",
       "        text-align: right;\n",
       "    }\n",
       "</style>\n",
       "<table border=\"1\" class=\"dataframe\">\n",
       "  <thead>\n",
       "    <tr style=\"text-align: right;\">\n",
       "      <th></th>\n",
       "      <th>smiles</th>\n",
       "      <th>B_Arrestin</th>\n",
       "      <th>ERK</th>\n",
       "      <th>G_Protein</th>\n",
       "      <th>Selective</th>\n",
       "    </tr>\n",
       "  </thead>\n",
       "  <tbody>\n",
       "    <tr>\n",
       "      <th>0</th>\n",
       "      <td>O=C(CCCCCNC(=O)C1CC2=CC=CC=C2CN1)NCCC1=CC=CC=C1</td>\n",
       "      <td>0.589688</td>\n",
       "      <td>0.054574</td>\n",
       "      <td>0.524391</td>\n",
       "      <td>0.054794</td>\n",
       "    </tr>\n",
       "    <tr>\n",
       "      <th>1</th>\n",
       "      <td>C(CC1=CC=CC=C1)N1CCC(CC1)NC1=CC=CC=C1</td>\n",
       "      <td>0.491498</td>\n",
       "      <td>0.078000</td>\n",
       "      <td>0.610150</td>\n",
       "      <td>0.079413</td>\n",
       "    </tr>\n",
       "    <tr>\n",
       "      <th>2</th>\n",
       "      <td>C(CC1=CC=CC=C1)NCCC1=CC=CC=C1</td>\n",
       "      <td>0.416772</td>\n",
       "      <td>0.171605</td>\n",
       "      <td>0.756355</td>\n",
       "      <td>0.170457</td>\n",
       "    </tr>\n",
       "    <tr>\n",
       "      <th>3</th>\n",
       "      <td>C1C2=CC=CC=C2OC2=CC=CC=C12</td>\n",
       "      <td>0.242226</td>\n",
       "      <td>0.031142</td>\n",
       "      <td>0.889583</td>\n",
       "      <td>0.030767</td>\n",
       "    </tr>\n",
       "    <tr>\n",
       "      <th>4</th>\n",
       "      <td>C1CC[NH2+]CC1</td>\n",
       "      <td>0.910004</td>\n",
       "      <td>0.516363</td>\n",
       "      <td>0.904784</td>\n",
       "      <td>0.495300</td>\n",
       "    </tr>\n",
       "  </tbody>\n",
       "</table>\n",
       "</div>"
      ],
      "text/plain": [
       "                                            smiles  B_Arrestin       ERK  \\\n",
       "0  O=C(CCCCCNC(=O)C1CC2=CC=CC=C2CN1)NCCC1=CC=CC=C1    0.589688  0.054574   \n",
       "1            C(CC1=CC=CC=C1)N1CCC(CC1)NC1=CC=CC=C1    0.491498  0.078000   \n",
       "2                    C(CC1=CC=CC=C1)NCCC1=CC=CC=C1    0.416772  0.171605   \n",
       "3                       C1C2=CC=CC=C2OC2=CC=CC=C12    0.242226  0.031142   \n",
       "4                                    C1CC[NH2+]CC1    0.910004  0.516363   \n",
       "\n",
       "   G_Protein  Selective  \n",
       "0   0.524391   0.054794  \n",
       "1   0.610150   0.079413  \n",
       "2   0.756355   0.170457  \n",
       "3   0.889583   0.030767  \n",
       "4   0.904784   0.495300  "
      ]
     },
     "execution_count": 80,
     "metadata": {},
     "output_type": "execute_result"
    }
   ],
   "source": [
    "actual = data_df.iloc[test_indices]\n",
    "preds = pd.read_csv(\"preds.csv\")\n",
    "preds.head()"
   ]
  },
  {
   "cell_type": "code",
   "execution_count": 82,
   "metadata": {},
   "outputs": [],
   "source": [
    "convert = lambda x: 1 if float(x)>0.5 else 0"
   ]
  },
  {
   "cell_type": "code",
   "execution_count": 83,
   "metadata": {},
   "outputs": [
    {
     "data": {
      "text/html": [
       "<div>\n",
       "<style scoped>\n",
       "    .dataframe tbody tr th:only-of-type {\n",
       "        vertical-align: middle;\n",
       "    }\n",
       "\n",
       "    .dataframe tbody tr th {\n",
       "        vertical-align: top;\n",
       "    }\n",
       "\n",
       "    .dataframe thead th {\n",
       "        text-align: right;\n",
       "    }\n",
       "</style>\n",
       "<table border=\"1\" class=\"dataframe\">\n",
       "  <thead>\n",
       "    <tr style=\"text-align: right;\">\n",
       "      <th></th>\n",
       "      <th>smiles</th>\n",
       "      <th>B_Arrestin</th>\n",
       "      <th>ERK</th>\n",
       "      <th>G_Protein</th>\n",
       "      <th>Selective</th>\n",
       "    </tr>\n",
       "  </thead>\n",
       "  <tbody>\n",
       "    <tr>\n",
       "      <th>0</th>\n",
       "      <td>O=C(CCCCCNC(=O)C1CC2=CC=CC=C2CN1)NCCC1=CC=CC=C1</td>\n",
       "      <td>1</td>\n",
       "      <td>0</td>\n",
       "      <td>1</td>\n",
       "      <td>0</td>\n",
       "    </tr>\n",
       "    <tr>\n",
       "      <th>1</th>\n",
       "      <td>C(CC1=CC=CC=C1)N1CCC(CC1)NC1=CC=CC=C1</td>\n",
       "      <td>0</td>\n",
       "      <td>0</td>\n",
       "      <td>1</td>\n",
       "      <td>0</td>\n",
       "    </tr>\n",
       "    <tr>\n",
       "      <th>2</th>\n",
       "      <td>C(CC1=CC=CC=C1)NCCC1=CC=CC=C1</td>\n",
       "      <td>0</td>\n",
       "      <td>0</td>\n",
       "      <td>1</td>\n",
       "      <td>0</td>\n",
       "    </tr>\n",
       "    <tr>\n",
       "      <th>3</th>\n",
       "      <td>C1C2=CC=CC=C2OC2=CC=CC=C12</td>\n",
       "      <td>0</td>\n",
       "      <td>0</td>\n",
       "      <td>1</td>\n",
       "      <td>0</td>\n",
       "    </tr>\n",
       "    <tr>\n",
       "      <th>4</th>\n",
       "      <td>C1CC[NH2+]CC1</td>\n",
       "      <td>1</td>\n",
       "      <td>1</td>\n",
       "      <td>1</td>\n",
       "      <td>0</td>\n",
       "    </tr>\n",
       "  </tbody>\n",
       "</table>\n",
       "</div>"
      ],
      "text/plain": [
       "                                            smiles  B_Arrestin  ERK  \\\n",
       "0  O=C(CCCCCNC(=O)C1CC2=CC=CC=C2CN1)NCCC1=CC=CC=C1           1    0   \n",
       "1            C(CC1=CC=CC=C1)N1CCC(CC1)NC1=CC=CC=C1           0    0   \n",
       "2                    C(CC1=CC=CC=C1)NCCC1=CC=CC=C1           0    0   \n",
       "3                       C1C2=CC=CC=C2OC2=CC=CC=C12           0    0   \n",
       "4                                    C1CC[NH2+]CC1           1    1   \n",
       "\n",
       "   G_Protein  Selective  \n",
       "0          1          0  \n",
       "1          1          0  \n",
       "2          1          0  \n",
       "3          1          0  \n",
       "4          1          0  "
      ]
     },
     "execution_count": 83,
     "metadata": {},
     "output_type": "execute_result"
    }
   ],
   "source": [
    "preds.iloc[:, 1:] = preds.iloc[:, 1:].applymap(convert)\n",
    "preds.head()"
   ]
  },
  {
   "cell_type": "code",
   "execution_count": 88,
   "metadata": {},
   "outputs": [],
   "source": [
    "from sklearn.metrics import classification_report, multilabel_confusion_matrix"
   ]
  },
  {
   "cell_type": "code",
   "execution_count": 93,
   "metadata": {},
   "outputs": [
    {
     "name": "stdout",
     "output_type": "stream",
     "text": [
      "[[[ 94  14]\n",
      "  [ 41  14]]\n",
      "\n",
      " [[140   2]\n",
      "  [ 17   4]]\n",
      "\n",
      " [[ 30  29]\n",
      "  [  7  97]]\n",
      "\n",
      " [[141   1]\n",
      "  [ 16   5]]]\n"
     ]
    }
   ],
   "source": [
    "print(multilabel_confusion_matrix(actual.iloc[:, 1:].values, preds.iloc[:, 1:].values))"
   ]
  },
  {
   "cell_type": "code",
   "execution_count": null,
   "metadata": {},
   "outputs": [],
   "source": []
  }
 ],
 "metadata": {
  "kernelspec": {
   "display_name": "Python 3",
   "language": "python",
   "name": "python3"
  },
  "language_info": {
   "codemirror_mode": {
    "name": "ipython",
    "version": 3
   },
   "file_extension": ".py",
   "mimetype": "text/x-python",
   "name": "python",
   "nbconvert_exporter": "python",
   "pygments_lexer": "ipython3",
   "version": "3.7.4"
  }
 },
 "nbformat": 4,
 "nbformat_minor": 2
}
